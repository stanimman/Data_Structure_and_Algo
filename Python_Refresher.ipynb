{
  "nbformat": 4,
  "nbformat_minor": 0,
  "metadata": {
    "colab": {
      "name": "Welcome To Colaboratory",
      "provenance": [],
      "collapsed_sections": [],
      "include_colab_link": true
    },
    "kernelspec": {
      "display_name": "Python 3",
      "name": "python3"
    }
  },
  "cells": [
    {
      "cell_type": "markdown",
      "metadata": {
        "id": "view-in-github",
        "colab_type": "text"
      },
      "source": [
        "<a href=\"https://colab.research.google.com/github/stanimman/Data_Structure_and_Algo/blob/master/Python_Refresher.ipynb\" target=\"_parent\"><img src=\"https://colab.research.google.com/assets/colab-badge.svg\" alt=\"Open In Colab\"/></a>"
      ]
    },
    {
      "cell_type": "code",
      "metadata": {
        "colab_type": "code",
        "id": "gJr_9dXGpJ05",
        "outputId": "ab906eef-0021-41f3-b89e-12034689fcd6",
        "colab": {
          "base_uri": "https://localhost:8080/",
          "height": 34
        }
      },
      "source": [
        "# Find smallest +ve number \n",
        "l1 = [.2, 5, 3, -.1, 7, 7, 6]\n",
        "sp = -1 # None is a better alterative\n",
        "for element in l1:\n",
        "  \n",
        "  if ((element > 0) & (sp == -1)) :\n",
        "    sp = element\n",
        "\n",
        "  elif ((element > 0) & (sp != -1)) :\n",
        "    if element < sp:\n",
        "      sp = element\n",
        "      \n",
        "print(sp)  \n",
        "\n",
        "    "
      ],
      "execution_count": 0,
      "outputs": [
        {
          "output_type": "stream",
          "text": [
            "0.2\n"
          ],
          "name": "stdout"
        }
      ]
    },
    {
      "cell_type": "code",
      "metadata": {
        "id": "V5fGQConjI7d",
        "colab_type": "code",
        "colab": {}
      },
      "source": [
        "# Return the semester in which a particular course is offered if you input course name \n",
        "courses = {\n",
        "    'spring2020': { 'cs101': {'name': 'Building a Search Engine',\n",
        "                           'teacher': 'Dave',\n",
        "                           'assistant': 'Peter C.'},\n",
        "                 'cs373': {'name': 'Programming a Robotic Car',\n",
        "                           'teacher': 'Sebastian',\n",
        "                           'assistant': 'Andy'}},\n",
        "    'fall2020': { 'cs101': {'name': 'Building a Search Engine',\n",
        "                           'teacher': 'Dave',\n",
        "                           'assistant': 'Sarah'},\n",
        "                 'cs212': {'name': 'The Design of Computer Programs',\n",
        "                           'teacher': 'Peter N.',\n",
        "                           'assistant': 'Andy',\n",
        "                           'prereq': 'cs101'},\n",
        "                 'cs253': {'name': 'Web Application Engineering - Building a Blog',\n",
        "                           'teacher': 'Steve',\n",
        "                           'prereq': 'cs101'},\n",
        "                 'cs262': {'name': 'Programming Languages - Building a Web Browser',\n",
        "                           'teacher': 'Wes',\n",
        "                           'assistant': 'Peter C.',\n",
        "                           'prereq': 'cs101'},\n",
        "                 'cs373': {'name': 'Programming a Robotic Car',\n",
        "                           'teacher': 'Sebastian'},\n",
        "                 'cs387': {'name': 'Applied Cryptography',\n",
        "                           'teacher': 'Dave'}},\n",
        "    'spring2044': { 'cs001': {'name': 'Building a Quantum Holodeck',\n",
        "                           'teacher': 'Dorina'},\n",
        "                        'cs003': {'name': 'Programming a Robotic Robotics Teacher',\n",
        "                           'teacher': 'Jasper'},\n",
        "                     }\n",
        "    }"
      ],
      "execution_count": 0,
      "outputs": []
    },
    {
      "cell_type": "code",
      "metadata": {
        "id": "SJvtTmsMjMDq",
        "colab_type": "code",
        "outputId": "68967457-3d4d-44a9-deeb-489b53468d46",
        "colab": {
          "base_uri": "https://localhost:8080/",
          "height": 34
        }
      },
      "source": [
        "course = 'bio893'\n",
        "sem_list = []\n",
        "for sem_key in courses:\n",
        "  for cour_key in courses[sem_key]:\n",
        "    if cour_key == course:\n",
        "      sem_list.append(sem_key)\n",
        "print(sem_list)\n",
        "\n"
      ],
      "execution_count": 0,
      "outputs": [
        {
          "output_type": "stream",
          "text": [
            "[]\n"
          ],
          "name": "stdout"
        }
      ]
    },
    {
      "cell_type": "code",
      "metadata": {
        "id": "CyY_quAKjMGa",
        "colab_type": "code",
        "colab": {}
      },
      "source": [
        "# Generators\n",
        "# Demonstrate the need for function object variable while using the generator\n",
        "def generate_even_number():\n",
        "  n = 0\n",
        "  while True:\n",
        "    yield(n)\n",
        "    n += 2\n",
        "\n",
        "\"\"\"The below function always returns 0 as output because it creates a new object every time\"\"\" \n",
        "for i in range(10):\n",
        "  print(next(generate_even_number())) # out [0,0,0,0,0,0,0,0,0,0]\n",
        "\n",
        "\n",
        "\"\"\"But creating a variable with function / generator object will maintain its state and iterate over previous value of n \n",
        "unless it reset\"\"\" \n",
        "generate_obj_var = generate_even_number()\n",
        "\n",
        "for i in range(10):\n",
        "  print(next(generate_obj_var)) # [0,2,4,6,8,12,14,16,18]"
      ],
      "execution_count": 0,
      "outputs": []
    },
    {
      "cell_type": "code",
      "metadata": {
        "id": "dI7WnmZJjMK5",
        "colab_type": "code",
        "colab": {}
      },
      "source": [
        "# Find factorial of a number\n",
        "def prod(n):\n",
        "  c = 1\n",
        "  p = 1\n",
        "  while n >= c:\n",
        "    p = p * c\n",
        "    yield(p)\n",
        "    c += 1 \n",
        "def fact(n):\n",
        "  prod_obj = prod(n)\n",
        "  for i in range(n):\n",
        "   factorial = next(prod_obj)\n",
        "  return(factorial)"
      ],
      "execution_count": 0,
      "outputs": []
    },
    {
      "cell_type": "code",
      "metadata": {
        "id": "EucwHhnPjMJq",
        "colab_type": "code",
        "outputId": "52e27f39-b922-4921-f63b-ae4b692f26a1",
        "colab": {
          "base_uri": "https://localhost:8080/",
          "height": 71
        }
      },
      "source": [
        "class Person:\n",
        "    def __init__(self, name, age, month):\n",
        "        self.name = name\n",
        "        self.age = age\n",
        "        self.birthday_month = month\n",
        "        \n",
        "    def birthday(self):\n",
        "        self.age += 1\n",
        "\n",
        "def create_person_objects(names, ages, months):\n",
        "    my_data = zip(names, ages, months)\n",
        "    person_objects = []\n",
        "    for item in my_data:\n",
        "        person_objects.append(Person(*item))\n",
        "    return person_objects\n",
        "\n",
        "def get_april_birthdays(people):\n",
        "    # TODO:\n",
        "    # Increment \"age\" for all people with birthdays in April.\n",
        "    # Return a dictionary \"april_birthdays\" with the names of\n",
        "    # all people with April birthdays as keys, and their updated ages \n",
        "    # as values. See the test below for an example expected output.\n",
        "    april_birthdays = {}\n",
        "    for person in people:\n",
        "      if person.birthday_month == 'April':\n",
        "        person.age = person.age+1\n",
        "        april_birthdays[person.name] = person.age\n",
        "\n",
        "    \n",
        "    # TODO: Modify the return statement \n",
        "    return(april_birthdays)\n",
        "\n",
        "def get_most_common_month(people):\n",
        "    # TODO:\n",
        "    # Use the \"months\" dictionary to record counts of birthday months\n",
        "    # for persons in the \"people\" data.\n",
        "    # Return the month with the largest number of birthdays.\n",
        "    months = {'January':0, 'February':0, 'March':0, 'April':0, 'May':0, \n",
        "              'June':0, 'July':0, 'August':0, 'September':0, 'October':0,\n",
        "              'November':0, 'December':0}\n",
        "    for person in people:\n",
        "      months[person.birthday_month] = months[person.birthday_month]+1\n",
        "    # TODO: Modify the return statement.\n",
        "    max_month = 0\n",
        "    max_people = 0\n",
        "    for month in months:\n",
        "      if max_month == 0:\n",
        "        max_month = month\n",
        "        max_people = months[month]\n",
        "      else:\n",
        "        if months[month] > max_people:\n",
        "          max_month = month\n",
        "          max_people = months[month]\n",
        "\n",
        "    return(max_month)\n",
        "\n",
        "\n",
        "def test():\n",
        "    # Here is the data for the test. Assume there is a single most common month.\n",
        "    names = ['Howard', 'Richard', 'Jules', 'Trula', 'Michael', 'Elizabeth', 'Richard', 'Shirley', 'Mark', 'Brianna', 'Kenneth', \n",
        "             'Gwen', 'William', 'Rosa', 'Denver', 'Shelly', 'Sammy', 'Maryann', 'Kathleen', 'Andrew', 'Joseph', 'Kathleen', 'Lisa', \n",
        "             'Viola', 'George', 'Bonnie', 'Robert', 'William', 'Sabrina', 'John', 'Robert', 'Gil', 'Calvin', 'Robert', 'Dusty', \n",
        "             'Dario', 'Joeann', 'Terry', 'Alan', 'Rosa', 'Jeane', 'James', 'Rachel', 'Tu', 'Chelsea', 'Andrea', 'Ernest', 'Erica',\n",
        "             'Priscilla', 'Carol', 'Michael', 'Dale', 'Arthur', 'Helen', 'James', 'Donna', 'Patricia', 'Betty', 'Patricia', 'Mollie',\n",
        "             'Nicole', 'Ernest', 'Wendy', 'Graciela', 'Teresa', 'Nicole', 'Trang', 'Caleb', 'Robert', 'Paul', 'Nieves', 'Arleen', \n",
        "             'Milton', 'James', 'Lawrence', 'Edward', 'Susan', 'Patricia', 'Tana', 'Jessica', 'Suzanne', 'Darren', 'Arthur', 'Holly',\n",
        "             'Mary', 'Randal', 'John', 'Laura', 'Betty', 'Chelsea', 'Margaret', 'Angel', 'Jeffrey', 'Mary', 'Donald', 'David', 'Roger', 'Evan', 'Danny', 'William']\n",
        "    ages  = [17, 58, 79, 8, 10, 57, 4, 98, 19, 47, 81, 68, 48, 13, 39, 21, 98, 51, 49, 12, 24, 78, 36, 59, 3, 87, 94, 85, 43, 69, 15, 52, 57, 36, 52, 5, 52, 5, 33, 10, 71, 28, 70, 9, 25, 28, 76, 71, 22, 35, 35, 100, 9, 95, 69, 52, 66, 91, 39, 84, 65, 29, 20, 98, 30, 83, 30, 15, 88, 89, 24, 98, 62, 94, 86, 63, 34, 23, 23, 19, 10, 80, 88, 67, 17, 91, 85, 97, 29, 7, 34, 38, 92, 29, 14, 52, 94, 62, 70, 22]\n",
        "    months = ['January', 'March', 'January', 'October', 'April', 'February', 'August', 'January', 'June', 'August', 'February', 'May', 'March', 'June', 'February', 'August', 'June', 'March', 'August', 'April', 'April', 'June', 'April', 'June', 'February', 'September', 'March', 'July', 'September', 'December', 'June', 'June', 'August', 'November', 'April', 'November', 'August', 'June', 'January', 'August', 'May', 'March', 'March', 'March', 'May', 'September', 'August', 'April', 'February', 'April', 'May', 'March', 'March', 'January', 'August', 'October', 'February', 'November', 'August', 'June', 'September', 'September', 'January', 'September', 'July', 'July', 'December', 'June', 'April', 'February', 'August', 'September', 'August', 'February', 'April', 'July', 'May', 'November', 'December', 'February', 'August', 'August', 'September', 'December', 'February', 'March', 'June', 'December', 'February', 'May', 'April', 'July', 'March', 'June', 'December', 'March', 'July', 'May', 'September', 'November']\n",
        "    people = create_person_objects(names, ages, months)\n",
        "\n",
        "    # Calls to the two functions you have completed.\n",
        "    print(get_april_birthdays(people))\n",
        "    print(get_most_common_month(people))\n",
        "\n",
        "\n",
        "\n",
        "test()\n",
        "# Expected result:\n",
        "# {'Michael': 11, 'Erica': 72, 'Carol': 36, 'Lisa': 37, 'Lawrence': 87, 'Joseph': 25, 'Margaret': 35, 'Andrew': 13, 'Dusty': 53, 'Robert': 89}\n",
        "# August"
      ],
      "execution_count": 3,
      "outputs": [
        {
          "output_type": "stream",
          "text": [
            "{'Michael': 11, 'Andrew': 13, 'Joseph': 25, 'Lisa': 37, 'Dusty': 53, 'Erica': 72, 'Carol': 36, 'Robert': 89, 'Lawrence': 87, 'Margaret': 35}\n",
            "August\n"
          ],
          "name": "stdout"
        }
      ]
    },
    {
      "cell_type": "code",
      "metadata": {
        "id": "wK4Ec95vQaX2",
        "colab_type": "code",
        "colab": {}
      },
      "source": [
        "# Days btw Dates\n",
        "Leap_month_days = {1:31,2:29,3:31,4:30,5:31,6:30,7:31,8:31,9:30,10:31,11:30,12:31}\n",
        "Non_Leap_month_days = {1:31,2:29,3:31,4:30,5:31,6:30,7:31,8:31,9:30,10:31,11:30,12:31}\n",
        "class Dates():\n",
        "  def __init__(self,Day,Month,Year):\n",
        "    self.Day = Day\n",
        "    self.Month = Month\n",
        "    self.Year = Year\n",
        "    self.leap_year = (Year%4 == 0)\n",
        "  def days_from_start(self):\n",
        "    days_from_str = 0\n",
        "    for i,month+1 in enumerate(range(self.Month)):\n",
        "      if month+1 == len(range(self.Month)):\n",
        "        days_from_str = days_from_str + self.Day\n",
        "      else :\n",
        "        if (self.leap_year)\n",
        "        days_from_str = days_from_str + Leap_month_days[month+1]\n",
        "\n"
      ],
      "execution_count": 0,
      "outputs": []
    },
    {
      "cell_type": "code",
      "metadata": {
        "id": "6P6i0Tvrd-E5",
        "colab_type": "code",
        "colab": {
          "base_uri": "https://localhost:8080/",
          "height": 85
        },
        "outputId": "c0bdf5b8-73b4-4901-d3a4-8a9c1af79193"
      },
      "source": [
        "for i in range(2):\n",
        "  print(i)\n",
        "  print(len(range(2)))"
      ],
      "execution_count": 16,
      "outputs": [
        {
          "output_type": "stream",
          "text": [
            "0\n",
            "2\n",
            "1\n",
            "2\n"
          ],
          "name": "stdout"
        }
      ]
    },
    {
      "cell_type": "code",
      "metadata": {
        "id": "dWWvwFLeb-dw",
        "colab_type": "code",
        "colab": {}
      },
      "source": [
        "Leap_month_days = {1:31,2:29,3:31,4:30,5:31,6:30,7:31,8:31,9:30,10:31,11:30,12:31}"
      ],
      "execution_count": 0,
      "outputs": []
    },
    {
      "cell_type": "code",
      "metadata": {
        "id": "_29aJMObb_LE",
        "colab_type": "code",
        "colab": {
          "base_uri": "https://localhost:8080/",
          "height": 34
        },
        "outputId": "99797809-f824-4753-f76f-4adc2dbe7bf8"
      },
      "source": [
        "Leap_month_days[4]"
      ],
      "execution_count": 9,
      "outputs": [
        {
          "output_type": "execute_result",
          "data": {
            "text/plain": [
              "30"
            ]
          },
          "metadata": {
            "tags": []
          },
          "execution_count": 9
        }
      ]
    },
    {
      "cell_type": "code",
      "metadata": {
        "id": "3rusJScqc5Ox",
        "colab_type": "code",
        "colab": {}
      },
      "source": [
        ""
      ],
      "execution_count": 0,
      "outputs": []
    }
  ]
}