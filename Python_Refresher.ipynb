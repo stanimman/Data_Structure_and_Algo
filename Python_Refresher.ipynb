{
  "nbformat": 4,
  "nbformat_minor": 0,
  "metadata": {
    "colab": {
      "name": "Welcome To Colaboratory",
      "provenance": [],
      "collapsed_sections": [],
      "include_colab_link": true
    },
    "kernelspec": {
      "display_name": "Python 3",
      "name": "python3"
    }
  },
  "cells": [
    {
      "cell_type": "markdown",
      "metadata": {
        "id": "view-in-github",
        "colab_type": "text"
      },
      "source": [
        "<a href=\"https://colab.research.google.com/github/stanimman/Data_Structure_and_Algo/blob/master/Python_Refresher.ipynb\" target=\"_parent\"><img src=\"https://colab.research.google.com/assets/colab-badge.svg\" alt=\"Open In Colab\"/></a>"
      ]
    },
    {
      "cell_type": "code",
      "metadata": {
        "colab_type": "code",
        "id": "gJr_9dXGpJ05",
        "outputId": "ab906eef-0021-41f3-b89e-12034689fcd6",
        "colab": {
          "base_uri": "https://localhost:8080/",
          "height": 34
        }
      },
      "source": [
        "# Find smallest +ve number \n",
        "l1 = [.2, 5, 3, -.1, 7, 7, 6]\n",
        "sp = -1 # None is a better alterative\n",
        "for element in l1:\n",
        "  \n",
        "  if ((element > 0) & (sp == -1)) :\n",
        "    sp = element\n",
        "\n",
        "  elif ((element > 0) & (sp != -1)) :\n",
        "    if element < sp:\n",
        "      sp = element\n",
        "      \n",
        "print(sp)  \n",
        "\n",
        "    "
      ],
      "execution_count": 12,
      "outputs": [
        {
          "output_type": "stream",
          "text": [
            "0.2\n"
          ],
          "name": "stdout"
        }
      ]
    },
    {
      "cell_type": "code",
      "metadata": {
        "id": "V5fGQConjI7d",
        "colab_type": "code",
        "colab": {}
      },
      "source": [
        "# Return the semester in which a particular course is offered if you input course name \n",
        "courses = {\n",
        "    'spring2020': { 'cs101': {'name': 'Building a Search Engine',\n",
        "                           'teacher': 'Dave',\n",
        "                           'assistant': 'Peter C.'},\n",
        "                 'cs373': {'name': 'Programming a Robotic Car',\n",
        "                           'teacher': 'Sebastian',\n",
        "                           'assistant': 'Andy'}},\n",
        "    'fall2020': { 'cs101': {'name': 'Building a Search Engine',\n",
        "                           'teacher': 'Dave',\n",
        "                           'assistant': 'Sarah'},\n",
        "                 'cs212': {'name': 'The Design of Computer Programs',\n",
        "                           'teacher': 'Peter N.',\n",
        "                           'assistant': 'Andy',\n",
        "                           'prereq': 'cs101'},\n",
        "                 'cs253': {'name': 'Web Application Engineering - Building a Blog',\n",
        "                           'teacher': 'Steve',\n",
        "                           'prereq': 'cs101'},\n",
        "                 'cs262': {'name': 'Programming Languages - Building a Web Browser',\n",
        "                           'teacher': 'Wes',\n",
        "                           'assistant': 'Peter C.',\n",
        "                           'prereq': 'cs101'},\n",
        "                 'cs373': {'name': 'Programming a Robotic Car',\n",
        "                           'teacher': 'Sebastian'},\n",
        "                 'cs387': {'name': 'Applied Cryptography',\n",
        "                           'teacher': 'Dave'}},\n",
        "    'spring2044': { 'cs001': {'name': 'Building a Quantum Holodeck',\n",
        "                           'teacher': 'Dorina'},\n",
        "                        'cs003': {'name': 'Programming a Robotic Robotics Teacher',\n",
        "                           'teacher': 'Jasper'},\n",
        "                     }\n",
        "    }"
      ],
      "execution_count": 0,
      "outputs": []
    },
    {
      "cell_type": "code",
      "metadata": {
        "id": "SJvtTmsMjMDq",
        "colab_type": "code",
        "colab": {
          "base_uri": "https://localhost:8080/",
          "height": 34
        },
        "outputId": "68967457-3d4d-44a9-deeb-489b53468d46"
      },
      "source": [
        "course = 'bio893'\n",
        "sem_list = []\n",
        "for sem_key in courses:\n",
        "  for cour_key in courses[sem_key]:\n",
        "    if cour_key == course:\n",
        "      sem_list.append(sem_key)\n",
        "print(sem_list)\n",
        "\n"
      ],
      "execution_count": 17,
      "outputs": [
        {
          "output_type": "stream",
          "text": [
            "[]\n"
          ],
          "name": "stdout"
        }
      ]
    },
    {
      "cell_type": "code",
      "metadata": {
        "id": "CyY_quAKjMGa",
        "colab_type": "code",
        "colab": {}
      },
      "source": [
        "# Generators\n",
        "# Demonstrate the need for function object variable while using the generator\n",
        "def generate_even_number():\n",
        "  n = 0\n",
        "  while True:\n",
        "    yield(n)\n",
        "    n += 2\n",
        "\n",
        "\"\"\"The below function always returns 0 as output because it creates a new object every time\"\"\" \n",
        "for i in range(10):\n",
        "  print(next(generate_even_number())) # out [0,0,0,0,0,0,0,0,0,0]\n",
        "\n",
        "\n",
        "\"\"\"But creating a variable with function / generator object will maintain its state and iterate over previous value of n \n",
        "unless it reset\"\"\" \n",
        "generate_obj_var = generate_even_number()\n",
        "\n",
        "for i in range(10):\n",
        "  print(next(generate_obj_var)) # [0,2,4,6,8,12,14,16,18]"
      ],
      "execution_count": 0,
      "outputs": []
    },
    {
      "cell_type": "code",
      "metadata": {
        "id": "dI7WnmZJjMK5",
        "colab_type": "code",
        "colab": {}
      },
      "source": [
        "# Find factorial of a number\n",
        "def prod(n):\n",
        "  c = 1\n",
        "  p = 1\n",
        "  while n >= c:\n",
        "    p = p * c\n",
        "    yield(p)\n",
        "    c += 1 \n",
        "def fact(n):\n",
        "  prod_obj = prod(n)\n",
        "  for i in range(n):\n",
        "   factorial = next(prod_obj)\n",
        "  return(factorial)"
      ],
      "execution_count": 0,
      "outputs": []
    },
    {
      "cell_type": "code",
      "metadata": {
        "id": "EucwHhnPjMJq",
        "colab_type": "code",
        "colab": {
          "base_uri": "https://localhost:8080/",
          "height": 34
        },
        "outputId": "0d5ccf2e-03b7-443f-c1f0-57f835647748"
      },
      "source": [
        "fact(4)"
      ],
      "execution_count": 27,
      "outputs": [
        {
          "output_type": "execute_result",
          "data": {
            "text/plain": [
              "24"
            ]
          },
          "metadata": {
            "tags": []
          },
          "execution_count": 27
        }
      ]
    }
  ]
}